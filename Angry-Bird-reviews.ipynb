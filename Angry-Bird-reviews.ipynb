{
 "cells": [
  {
   "cell_type": "code",
   "execution_count": 7,
   "id": "d927f84f",
   "metadata": {},
   "outputs": [
    {
     "name": "stderr",
     "output_type": "stream",
     "text": [
      "2023-02-19 08:38:25,322 [INFO] Base - Initialised: AppStore('us', 'angry-birds-2', 880047117)\n",
      "2023-02-19 08:38:25,324 [INFO] Base - Ready to fetch reviews from: https://apps.apple.com/us/app/angry-birds-2/id880047117\n",
      "2023-02-19 08:38:30,464 [INFO] Base - [id:880047117] Fetched 200 reviews (200 fetched in total)\n",
      "2023-02-19 08:38:36,306 [INFO] Base - [id:880047117] Fetched 420 reviews (420 fetched in total)\n",
      "2023-02-19 08:38:42,039 [INFO] Base - [id:880047117] Fetched 640 reviews (640 fetched in total)\n",
      "2023-02-19 08:38:48,073 [INFO] Base - [id:880047117] Fetched 860 reviews (860 fetched in total)\n",
      "2023-02-19 08:38:51,768 [INFO] Base - [id:880047117] Fetched 1000 reviews (1000 fetched in total)\n"
     ]
    }
   ],
   "source": [
    "import pandas as pd\n",
    "import numpy as np\n",
    "import json\n",
    "\n",
    "#scrape reviews using app_store_scraper( )\n",
    "from app_store_scraper import AppStore\n",
    "game = AppStore(country='us', app_name='angry-birds-2', app_id = '880047117')\n",
    "\n",
    "game.review(how_many=1000)"
   ]
  },
  {
   "cell_type": "code",
   "execution_count": 8,
   "id": "121b3ed8",
   "metadata": {},
   "outputs": [
    {
     "data": {
      "text/html": [
       "<div>\n",
       "<style scoped>\n",
       "    .dataframe tbody tr th:only-of-type {\n",
       "        vertical-align: middle;\n",
       "    }\n",
       "\n",
       "    .dataframe tbody tr th {\n",
       "        vertical-align: top;\n",
       "    }\n",
       "\n",
       "    .dataframe thead th {\n",
       "        text-align: right;\n",
       "    }\n",
       "</style>\n",
       "<table border=\"1\" class=\"dataframe\">\n",
       "  <thead>\n",
       "    <tr style=\"text-align: right;\">\n",
       "      <th></th>\n",
       "      <th>date</th>\n",
       "      <th>review</th>\n",
       "      <th>rating</th>\n",
       "      <th>isEdited</th>\n",
       "      <th>userName</th>\n",
       "      <th>title</th>\n",
       "      <th>developerResponse</th>\n",
       "    </tr>\n",
       "  </thead>\n",
       "  <tbody>\n",
       "    <tr>\n",
       "      <th>0</th>\n",
       "      <td>2022-01-01 03:18:36</td>\n",
       "      <td>This game is amazing. I’m finally able to play...</td>\n",
       "      <td>5</td>\n",
       "      <td>False</td>\n",
       "      <td>Goobdawoob100</td>\n",
       "      <td>Genuinely Fun</td>\n",
       "      <td>NaN</td>\n",
       "    </tr>\n",
       "    <tr>\n",
       "      <th>1</th>\n",
       "      <td>2020-12-20 04:11:01</td>\n",
       "      <td>Who created this game? So many problems I have...</td>\n",
       "      <td>2</td>\n",
       "      <td>False</td>\n",
       "      <td>Jag11243</td>\n",
       "      <td>Fun, but a lot of downgrades from the original</td>\n",
       "      <td>NaN</td>\n",
       "    </tr>\n",
       "    <tr>\n",
       "      <th>2</th>\n",
       "      <td>2022-04-16 21:46:49</td>\n",
       "      <td>I don’t know if this is a major studio doing a...</td>\n",
       "      <td>2</td>\n",
       "      <td>False</td>\n",
       "      <td>teknobarf</td>\n",
       "      <td>Sad state of the “mobile game” industry</td>\n",
       "      <td>NaN</td>\n",
       "    </tr>\n",
       "    <tr>\n",
       "      <th>3</th>\n",
       "      <td>2021-04-26 05:36:39</td>\n",
       "      <td>This game is bad on so many levels, so here’s ...</td>\n",
       "      <td>1</td>\n",
       "      <td>False</td>\n",
       "      <td>The Roshar</td>\n",
       "      <td>Very Bad</td>\n",
       "      <td>NaN</td>\n",
       "    </tr>\n",
       "    <tr>\n",
       "      <th>4</th>\n",
       "      <td>2022-03-08 19:08:20</td>\n",
       "      <td>The game itself is mostly fun (a bit frustrati...</td>\n",
       "      <td>2</td>\n",
       "      <td>False</td>\n",
       "      <td>ashadowdeep</td>\n",
       "      <td>Fun game, glitchy</td>\n",
       "      <td>NaN</td>\n",
       "    </tr>\n",
       "  </tbody>\n",
       "</table>\n",
       "</div>"
      ],
      "text/plain": [
       "                 date                                             review  \\\n",
       "0 2022-01-01 03:18:36  This game is amazing. I’m finally able to play...   \n",
       "1 2020-12-20 04:11:01  Who created this game? So many problems I have...   \n",
       "2 2022-04-16 21:46:49  I don’t know if this is a major studio doing a...   \n",
       "3 2021-04-26 05:36:39  This game is bad on so many levels, so here’s ...   \n",
       "4 2022-03-08 19:08:20  The game itself is mostly fun (a bit frustrati...   \n",
       "\n",
       "   rating  isEdited       userName  \\\n",
       "0       5     False  Goobdawoob100   \n",
       "1       2     False       Jag11243   \n",
       "2       2     False      teknobarf   \n",
       "3       1     False     The Roshar   \n",
       "4       2     False    ashadowdeep   \n",
       "\n",
       "                                            title developerResponse  \n",
       "0                                   Genuinely Fun               NaN  \n",
       "1  Fun, but a lot of downgrades from the original               NaN  \n",
       "2         Sad state of the “mobile game” industry               NaN  \n",
       "3                                        Very Bad               NaN  \n",
       "4                               Fun game, glitchy               NaN  "
      ]
     },
     "execution_count": 8,
     "metadata": {},
     "output_type": "execute_result"
    }
   ],
   "source": [
    "#converting reviews from json format in to a readable dataframe\n",
    "gamedf = pd.DataFrame(np.array(game.reviews),columns=['review'])\n",
    "gamedf2 = gamedf.join(pd.DataFrame(gamedf.pop('review').tolist()))\n",
    "gamedf2.head()"
   ]
  },
  {
   "cell_type": "code",
   "execution_count": 9,
   "id": "2ff22bc9",
   "metadata": {},
   "outputs": [],
   "source": [
    "#saving the file in a csv format\n",
    "gamedf2.to_csv('Angry-Bird-2-reviews.csv')"
   ]
  },
  {
   "cell_type": "code",
   "execution_count": null,
   "id": "7769468c",
   "metadata": {},
   "outputs": [],
   "source": []
  }
 ],
 "metadata": {
  "kernelspec": {
   "display_name": "Python 3",
   "language": "python",
   "name": "python3"
  },
  "language_info": {
   "codemirror_mode": {
    "name": "ipython",
    "version": 3
   },
   "file_extension": ".py",
   "mimetype": "text/x-python",
   "name": "python",
   "nbconvert_exporter": "python",
   "pygments_lexer": "ipython3",
   "version": "3.8.8"
  }
 },
 "nbformat": 4,
 "nbformat_minor": 5
}
